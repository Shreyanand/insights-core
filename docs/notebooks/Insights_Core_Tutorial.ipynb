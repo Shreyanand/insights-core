{
 "cells": [
  {
   "cell_type": "markdown",
   "metadata": {},
   "source": [
    "# Red Hat Insights Core Tutorial\n",
    "Insights Core is a framework for collecting and processing data on systems in a standard way. The general idea is to collect data from files or commands, convert each output to a python object with an appropriate interface, optionally compose several of those objects into others to unify their APIs or provide a friendlier one, and finally to write policies that operate on any of those components.\n",
    "\n",
    "You don't *have* to use all of the features Insights Core provides. You can use it as a simple file and command collector. But the real power comes from the catalogues of built-in components that go beyond simple data collection to expose proper objects to your own extensions of the system.\n",
    "\n",
    "To accomplish all of this, Insights Core uses an internal dependency resolution engine. Components in the form of class or function definitions describe dependencies on other components with decorators, and the complete dependency graphs can be executed once all components you care about have been loaded.\n",
    "\n",
    "This is an introduction to the dependency resolution system followed by a tour of the standard components Insights Core provides."
   ]
  },
  {
   "cell_type": "markdown",
   "metadata": {},
   "source": [
    "## Components\n",
    "To make a component, we first have to create a component type, which is a decorator used to define components."
   ]
  },
  {
   "cell_type": "code",
   "execution_count": 1,
   "metadata": {},
   "outputs": [],
   "source": [
    "from insights.core import dr"
   ]
  },
  {
   "cell_type": "code",
   "execution_count": 2,
   "metadata": {},
   "outputs": [],
   "source": [
    "# Here's our component type with the clever name \"component.\"\n",
    "\n",
    "# We could have named it anything. Insights Core provides several types\n",
    "# that we'll come to later.\n",
    "\n",
    "component = dr.new_component_type(\"component\")"
   ]
  },
  {
   "cell_type": "markdown",
   "metadata": {},
   "source": [
    "### Do I have to give it a name?\n",
    "You don't *have* to, but because the return value of `dr.new_component_type` is a function that's created on demand, every component type will have the same name and belong to an internal module unless you give it one."
   ]
  },
  {
   "cell_type": "code",
   "execution_count": 3,
   "metadata": {},
   "outputs": [
    {
     "name": "stdout",
     "output_type": "stream",
     "text": [
      "insights.core.dr.decorator\n",
      "insights.core.dr.decorator\n",
      "__main__.component\n"
     ]
    }
   ],
   "source": [
    "blah = dr.new_component_type()\n",
    "stuff = dr.new_component_type()\n",
    "\n",
    "print dr.get_name(blah)\n",
    "print dr.get_name(stuff)\n",
    "print dr.get_name(component)"
   ]
  },
  {
   "cell_type": "markdown",
   "metadata": {},
   "source": [
    "### How do I use it?"
   ]
  },
  {
   "cell_type": "code",
   "execution_count": 4,
   "metadata": {},
   "outputs": [],
   "source": [
    "import random\n",
    "\n",
    "# Make two components with no dependencies\n",
    "@component()\n",
    "def rand():\n",
    "    return random.random()\n",
    "\n",
    "@component()\n",
    "def three():\n",
    "    return 3\n",
    "\n",
    "# Make a component that depends on the other two. Notice that we depend on two\n",
    "# things, and there are two arguments to the function.\n",
    "\n",
    "@component(rand, three)\n",
    "def mul_things(x, y):\n",
    "    return x * y"
   ]
  },
  {
   "cell_type": "code",
   "execution_count": 5,
   "metadata": {},
   "outputs": [
    {
     "name": "stdout",
     "output_type": "stream",
     "text": [
      "{<function mul_things at 0x3e83050>: 0.5485631882238988,\n",
      " <function rand at 0x3e831b8>: 0.18285439607463294,\n",
      " <function three at 0x3e836e0>: 3}\n"
     ]
    }
   ],
   "source": [
    "# Now that we have a few components defined, let's run them.\n",
    "\n",
    "from pprint import pprint\n",
    "\n",
    "# If you call run with no arguments, all components of every type (with a few caveats\n",
    "# I'll address later) are run, and their values or exceptions are collected in an\n",
    "# object called a broker.\n",
    "\n",
    "broker = dr.run()\n",
    "pprint(broker.instances)"
   ]
  },
  {
   "cell_type": "markdown",
   "metadata": {},
   "source": [
    "## Component Types\n",
    "We can define components of different types by creating different decorators."
   ]
  },
  {
   "cell_type": "code",
   "execution_count": 6,
   "metadata": {},
   "outputs": [],
   "source": [
    "stage = dr.new_component_type(\"stage\")"
   ]
  },
  {
   "cell_type": "code",
   "execution_count": 7,
   "metadata": {},
   "outputs": [],
   "source": [
    "@stage(mul_things)\n",
    "def spam(m):\n",
    "    return int(m)"
   ]
  },
  {
   "cell_type": "code",
   "execution_count": 8,
   "metadata": {},
   "outputs": [
    {
     "name": "stdout",
     "output_type": "stream",
     "text": [
      "All Instances\n",
      "{<function mul_things at 0x3e83050>: 2.305881516268338,\n",
      " <function rand at 0x3e831b8>: 0.7686271720894461,\n",
      " <function three at 0x3e836e0>: 3,\n",
      " <function spam at 0x3e83938>: 2}\n",
      "\n",
      "Components\n",
      "{<function mul_things at 0x3e83050>: 2.305881516268338,\n",
      " <function rand at 0x3e831b8>: 0.7686271720894461,\n",
      " <function three at 0x3e836e0>: 3}\n",
      "\n",
      "Stages\n",
      "{<function spam at 0x3e83938>: 2}\n"
     ]
    }
   ],
   "source": [
    "broker = dr.run()\n",
    "print \"All Instances\"\n",
    "pprint(broker.instances)\n",
    "print\n",
    "print \"Components\"\n",
    "pprint(broker.get_by_type(component))\n",
    "\n",
    "print\n",
    "print \"Stages\"\n",
    "pprint(broker.get_by_type(stage))"
   ]
  },
  {
   "cell_type": "markdown",
   "metadata": {},
   "source": [
    "## Executors\n",
    "What happens if you specify `executor=dr.broker_executor` in the type definition? Your component will get the broker object that's carrying the state of the evaluation up to the point the component is called."
   ]
  },
  {
   "cell_type": "code",
   "execution_count": 9,
   "metadata": {},
   "outputs": [],
   "source": [
    "thing = dr.new_component_type(\"thing\", executor=dr.broker_executor)\n",
    "\n",
    "@thing(rand, three)\n",
    "def stuff(broker):\n",
    "    r = broker[rand]\n",
    "    t = broker[three]\n",
    "    return r + t"
   ]
  },
  {
   "cell_type": "code",
   "execution_count": 10,
   "metadata": {},
   "outputs": [
    {
     "name": "stdout",
     "output_type": "stream",
     "text": [
      "3.78838911802\n"
     ]
    }
   ],
   "source": [
    "broker = dr.run()\n",
    "print broker[stuff]"
   ]
  },
  {
   "cell_type": "markdown",
   "metadata": {},
   "source": [
    "Notice that broker can be used as a dictionary to get the value of components that have already executed without directly looking at the `broker.instances` attribute."
   ]
  },
  {
   "cell_type": "markdown",
   "metadata": {},
   "source": [
    "## Exception Handling\n",
    "When a component raises an exception, the exception is recorded in a dictionary whose key is the component and whose value is a list of exceptions. The traceback related to each exception is recorded in a dictionary of exceptions to tracebacks. We record exceptions in a list because some components may generate more than one value. We'll come to that later."
   ]
  },
  {
   "cell_type": "code",
   "execution_count": 11,
   "metadata": {},
   "outputs": [
    {
     "name": "stdout",
     "output_type": "stream",
     "text": [
      "Exception('Boom!',)\n",
      "\n",
      "Traceback (most recent call last):\n",
      "  File \"insights/core/dr.py\", line 626, in run\n",
      "    result = DELEGATES[component](broker)\n",
      "  File \"insights/core/dr.py\", line 585, in __f\n",
      "    return executor(func, broker, requires, optional)\n",
      "  File \"insights/core/dr.py\", line 527, in default_executor\n",
      "    return func(*args)\n",
      "  File \"<ipython-input-11-bc534c6da647>\", line 3, in boom\n",
      "    raise Exception(\"Boom!\")\n",
      "Exception: Boom!\n",
      "\n"
     ]
    }
   ],
   "source": [
    "@stage()\n",
    "def boom():\n",
    "    raise Exception(\"Boom!\")\n",
    "\n",
    "broker = dr.run()\n",
    "e = broker.exceptions[boom][0]\n",
    "t = broker.tracebacks[e]\n",
    "pprint(e)\n",
    "print\n",
    "print t"
   ]
  },
  {
   "cell_type": "markdown",
   "metadata": {},
   "source": [
    "## Missing Dependencies\n",
    "A component with any missing required dependencies will not be called. Missing dependencies are recorded in the broker in a dictionary whose keys are components and whose values are tuples with two values. The first is a list of all missing **required** dependencies. The second is a list of all dependencies of which at least one was required."
   ]
  },
  {
   "cell_type": "code",
   "execution_count": 12,
   "metadata": {},
   "outputs": [
    {
     "name": "stdout",
     "output_type": "stream",
     "text": [
      "([\"where's my stuff at?\"], [])\n"
     ]
    }
   ],
   "source": [
    "@stage(\"where's my stuff at?\")\n",
    "def missing_stuff(s):\n",
    "    return s\n",
    "\n",
    "broker = dr.run()\n",
    "print broker.missing_requirements[missing_stuff]"
   ]
  },
  {
   "cell_type": "code",
   "execution_count": 13,
   "metadata": {},
   "outputs": [
    {
     "name": "stdout",
     "output_type": "stream",
     "text": [
      "(['a', 'b'], [['e', 'f']])\n"
     ]
    }
   ],
   "source": [
    "@stage(\"a\", \"b\", [rand, \"d\"], [\"e\", \"f\"])\n",
    "def missing_more_stuff(a, b, c, d, e, f):\n",
    "    return a + b + c + d + e + f\n",
    "\n",
    "broker = dr.run()\n",
    "print broker.missing_requirements[missing_more_stuff]"
   ]
  },
  {
   "cell_type": "markdown",
   "metadata": {},
   "source": [
    "Notice that the first elements in the dependency list after `@stage` are simply \"a\" and \"b\", but the next two elements are themselves lists. This means that at least one element of each list must be present. The first \"any\" list has [rand, \"d\"], and rand is available, so it resolves. However, neither \"e\" nor \"f\" are available, so the resolution fails. Our missing dependencies list includes the first two standalone elements as well as the second \"any\" list."
   ]
  },
  {
   "cell_type": "markdown",
   "metadata": {},
   "source": [
    "## SkipComponent\n",
    "Components that raise `dr.SkipComponent` won't have any values or exceptions recorded and will be treated as missing dependencies for components that depend on them."
   ]
  },
  {
   "cell_type": "markdown",
   "metadata": {},
   "source": [
    "## Optional Dependencies\n",
    "\n",
    "Yes, there's an \"optional\" keyword that  takes a list. Every component within it should be executed first, but if they throw exceptions or don't run for some other reason, execute the component that's depending on them anyway and just say they were None."
   ]
  },
  {
   "cell_type": "code",
   "execution_count": 14,
   "metadata": {},
   "outputs": [
    {
     "name": "stdout",
     "output_type": "stream",
     "text": [
      "(False, None)\n"
     ]
    }
   ],
   "source": [
    "@stage(rand, optional=['test'])\n",
    "def is_greater_than_ten(r, t):\n",
    "    return (int(r*10.0) < 5.0, t)\n",
    "\n",
    "broker = dr.run()\n",
    "print broker[is_greater_than_ten]"
   ]
  },
  {
   "cell_type": "markdown",
   "metadata": {},
   "source": [
    "## auto_requires and auto_optional\n",
    "The definition of a component type may take two other keywords: `auto_requires` and `auto_optional`. Their specifications are the same as the `requires` and `optional` portions of the component decorators. Any component decorated with a component type that has `auto_requires` or `auto_optional` will automatically depend on the specified components, and any additional dependencies on the component itself will just be appended."
   ]
  },
  {
   "cell_type": "code",
   "execution_count": 15,
   "metadata": {},
   "outputs": [
    {
     "name": "stdout",
     "output_type": "stream",
     "text": [
      "3.89578065480031\n",
      "set([<function rand at 0x3e831b8>])\n"
     ]
    }
   ],
   "source": [
    "mything = dr.new_component_type(\"mything\", auto_requires=[rand])\n",
    "\n",
    "@mything()\n",
    "def dothings(r):\n",
    "    return 4 * r\n",
    "\n",
    "broker = dr.run(broker=broker)\n",
    "\n",
    "pprint(broker[dothings])\n",
    "pprint(dr.get_dependencies(dothings))"
   ]
  },
  {
   "cell_type": "markdown",
   "metadata": {},
   "source": [
    "## Metadata\n",
    "Component types and components can define metadata in their definitions. If a component's type defines metadata, that metadata is inherited by the component, although the component may override it."
   ]
  },
  {
   "cell_type": "code",
   "execution_count": 16,
   "metadata": {},
   "outputs": [
    {
     "data": {
      "text/plain": [
       "{'a': 2, 'b': 4, 'c': 5}"
      ]
     },
     "execution_count": 16,
     "metadata": {},
     "output_type": "execute_result"
    }
   ],
   "source": [
    "anotherthing = dr.new_component_type(\"anotherthing\", type_metadata={\"a\": 2, \"b\": 3})\n",
    "\n",
    "@anotherthing(metadata={\"b\": 4, \"c\": 5})\n",
    "def four():\n",
    "    return 4\n",
    "\n",
    "dr.get_metadata(four)"
   ]
  },
  {
   "cell_type": "markdown",
   "metadata": {},
   "source": [
    "## Component Groups\n",
    "So far we haven't said how we might group components together outside of defining different component types. But sometimes we might want to specify certain components, even of different component types, to belong together and to only be executed when explicitly asked to do so.\n",
    "\n",
    "All of our components so far have implicitly belonged to the default group. However, component types and even individual components can be assigned to specific groups, which will run only when explicitly specified."
   ]
  },
  {
   "cell_type": "code",
   "execution_count": 17,
   "metadata": {},
   "outputs": [
    {
     "name": "stdout",
     "output_type": "stream",
     "text": [
      "{<function five at 0x3ec0398>: 5}\n"
     ]
    }
   ],
   "source": [
    "grouped = dr.new_component_type(\"grouped\", group=\"grouped\")\n",
    "\n",
    "@grouped()\n",
    "def five():\n",
    "    return 5\n",
    "\n",
    "b = dr.Broker()\n",
    "dr.run(dr.COMPONENTS[\"grouped\"], broker=b)\n",
    "pprint(b.instances)"
   ]
  },
  {
   "cell_type": "markdown",
   "metadata": {},
   "source": [
    "If a group isn't specified in the type definition or in the component decorator, the default group is assumed. Likewise, the default group is assumed when calling `run` if one isn't provided."
   ]
  },
  {
   "cell_type": "markdown",
   "metadata": {},
   "source": [
    "## Aliases\n",
    "When a component is defined, it can be given an alias on which other components can depend instead of depending directly on the component. This is sometimes useful but is discouraged."
   ]
  },
  {
   "cell_type": "code",
   "execution_count": 18,
   "metadata": {},
   "outputs": [
    {
     "name": "stdout",
     "output_type": "stream",
     "text": [
      "12\n"
     ]
    }
   ],
   "source": [
    "@stage(alias=\"six\")\n",
    "def six():\n",
    "    return 6\n",
    "\n",
    "@stage(\"six\")\n",
    "def times_two(s):\n",
    "    return 2 * s\n",
    "\n",
    "br = dr.Broker()\n",
    "br = dr.run(broker=br)\n",
    "pprint(br[times_two])"
   ]
  },
  {
   "cell_type": "markdown",
   "metadata": {},
   "source": [
    "## run_incremental\n",
    "Since hundreds or even thousands of dependencies can be defined, it's sometimes useful to separate them into graphs that don't share any components and execute those graphs one at a time. In addition to the `run` function, the `dr` module also provides a `run_incremental` function that does exactly that. You can give it a starting broker (or none at all), and it will yield a new broker for each distinct graph among all the dependencies."
   ]
  },
  {
   "cell_type": "markdown",
   "metadata": {},
   "source": [
    "## Inspecting Components\n",
    "The `dr` module provides several functions for inspecting components. You can get their aliases, dependencies, dependents, groups, type, even their entire dependency trees."
   ]
  },
  {
   "cell_type": "code",
   "execution_count": 19,
   "metadata": {},
   "outputs": [
    {
     "name": "stdout",
     "output_type": "stream",
     "text": [
      "Alias (six): six\n",
      "\n",
      "Module (six): __main__\n",
      "\n",
      "Component Type (six): <function stage at 0x3831938>\n",
      "\n",
      "Dependencies (times_two): \n",
      "set([<function six at 0x3ec06e0>])\n",
      "\n",
      "Dependency Graph (stuff): \n",
      "{<function rand at 0x3e831b8>: set(),\n",
      " <function stuff at 0x3e835f0>: set([<function rand at 0x3e831b8>,\n",
      "                                     <function three at 0x3e836e0>]),\n",
      " <function three at 0x3e836e0>: set()}\n",
      "\n",
      "Dependents (rand): \n",
      "set([<function is_greater_than_ten at 0x3831410>,\n",
      "     <function mul_things at 0x3e83050>,\n",
      "     <function dothings at 0x3e83410>,\n",
      "     <function missing_more_stuff at 0x3e83578>,\n",
      "     <function stuff at 0x3e835f0>])\n",
      "\n",
      "Group (six): 0\n",
      "\n",
      "Metadata (four): {'a': 2, 'b': 4, 'c': 5}\n",
      " \n",
      "Module Name (six): __main__\n",
      "\n",
      "Name (six): __main__.six\n",
      "\n",
      "Simple Name (six): six\n"
     ]
    }
   ],
   "source": [
    "from insights.core import dr\n",
    "print \"Alias (six):\", dr.get_alias(six)\n",
    "\n",
    "# If the component's full name was foo.bar.baz.six, this would print \"baz\"\n",
    "print \"\\nModule (six):\", dr.get_base_module_name(six)\n",
    "\n",
    "print \"\\nComponent Type (six):\", dr.get_component_type(six)\n",
    "\n",
    "print \"\\nDependencies (times_two): \"\n",
    "pprint(dr.get_dependencies(times_two))\n",
    "\n",
    "print \"\\nDependency Graph (stuff): \"\n",
    "pprint(dr.get_dependency_graph(stuff))\n",
    "\n",
    "print \"\\nDependents (rand): \"\n",
    "pprint(dr.get_dependents(rand))\n",
    "\n",
    "print \"\\nGroup (six):\", dr.get_group(six)\n",
    "\n",
    "print \"\\nMetadata (four): \",\n",
    "pprint(dr.get_metadata(four))\n",
    "\n",
    "# prints the full module name of the component\n",
    "print \"\\nModule Name (six):\", dr.get_module_name(six)\n",
    "\n",
    "# prints the module name joined to the component name by a \".\"\n",
    "print \"\\nName (six):\", dr.get_name(six)\n",
    "\n",
    "print \"\\nSimple Name (six):\", dr.get_simple_name(six)"
   ]
  },
  {
   "cell_type": "markdown",
   "metadata": {},
   "source": [
    "## Loading Components\n",
    "If you have components defined in a package and the root of that path is in `sys.path`, you can load the package and all its subpackages and modules by calling `dr.load_components`. This way you don't have to load every component module individually.\n",
    "\n",
    "```python\n",
    "# recursively load all packages and modules in path.to.package\n",
    "dr.load_components(\"path.to.package\")\n",
    "\n",
    "# or load a single module\n",
    "dr.load_components(\"path.to.package.module\")\n",
    "```"
   ]
  },
  {
   "cell_type": "markdown",
   "metadata": {},
   "source": [
    "Now that you know the basics of Insights Core dependency resolution, let's move on to the rest of Core that builds on it."
   ]
  },
  {
   "cell_type": "markdown",
   "metadata": {},
   "source": [
    "## Standard Component Types\n",
    "The standard component types provided by Insights Core are `datasource`, `parser`, `combiner`, `rule`, `condition`, and `incident`. They're defined in `insights.core.plugins`.\n",
    "\n",
    "Some have specialized interfaces and executors that adapt the dependency specification parts described above to what developers using previous versions of Insights Core have come to expect.\n",
    "\n",
    "For more information on parser, combiner, and rule development, please see our [component developer tutorials](http://insights-core.readthedocs.io/en/latest/rule_tutorial_index.html)."
   ]
  },
  {
   "cell_type": "markdown",
   "metadata": {},
   "source": [
    "### Datasource\n",
    "A datasource used to be called a spec. Components of this type collect data and make it available to other components. Since we have several hundred predefined datasources that fall into just a handful of categories, we've streamlined the process of creating them.\n",
    "\n",
    "Datasources are defined either with the `@datasource` decorator or a `SpecFactory` from `insights.core.spec_factory`.\n",
    "\n",
    "A `SpecFactory` has a handful of functions for defining common datasource types.\n",
    "- simple_file\n",
    "- glob_file\n",
    "- simple_command\n",
    "- listdir\n",
    "- foreach\n",
    "- first_file\n",
    "- first_of\n",
    "\n",
    "All datasources defined with a `SpecFactory` will depend on a `ExecutionContext` of some kind. Contexts let you activate different datasources for different environments. Most of them provide a root path for file collection and may perform some environment specific setup for commands, even modifying the command strings if needed.\n",
    "\n",
    "For now, we'll use a `HostContext`. This tells datasources to collect files starting at the root of the file system and to execute commands exactly as they are defined. Other contexts are in `insights.core.contexts`.\n",
    "\n",
    "All file collection datasources depend on any context that provides a path to use as root unless a particular context is explicitly specified. In other words, some datasources will activate for multiple contexts unless told otherwise."
   ]
  },
  {
   "cell_type": "markdown",
   "metadata": {},
   "source": [
    "#### simple_file\n",
    "`simple_file` reads a file from the file system and makes it available as a `TextFileProvider`. A `TextFileProvider` instance contains the path to the file and its content as a list of lines."
   ]
  },
  {
   "cell_type": "code",
   "execution_count": 20,
   "metadata": {},
   "outputs": [
    {
     "name": "stdout",
     "output_type": "stream",
     "text": [
      "/etc/redhat-release ['Red Hat Enterprise Linux Server release 7.4 (Maipo)']\n",
      "/etc/hostname ['ceehadoop1.gsslab.rdu2.redhat.com']\n"
     ]
    }
   ],
   "source": [
    "from insights.core import dr\n",
    "from insights.core.context import HostContext\n",
    "from insights.core.spec_factory import SpecFactory\n",
    "\n",
    "sf = SpecFactory()\n",
    "release = sf.simple_file(\"/etc/redhat-release\", name=\"release\")\n",
    "hostname = sf.simple_file(\"/etc/hostname\", name=\"hostname\")\n",
    "\n",
    "ctx = HostContext()\n",
    "broker = dr.Broker()\n",
    "broker[HostContext] = ctx\n",
    "\n",
    "broker = dr.run(broker=broker)\n",
    "print broker[release].path, broker[release].content\n",
    "print broker[hostname].path, broker[hostname].content"
   ]
  },
  {
   "cell_type": "markdown",
   "metadata": {
    "collapsed": true
   },
   "source": [
    "#### glob_file\n",
    "`glob_file` accepts glob patterns and evaluates at runtime to a list of `TextFileProvider` instances, one for each match. You can pass `glob_file` a single pattern or a list (or set) of patterns. It also accepts an `ignore` keyword, which should be a regular expression string matching paths to ignore. The glob and ignore patterns can be used together to match lots of files and then throw out the ones you don't want."
   ]
  },
  {
   "cell_type": "code",
   "execution_count": 21,
   "metadata": {},
   "outputs": [
    {
     "name": "stdout",
     "output_type": "stream",
     "text": [
      "[TextFileProvider(\"/etc/host.conf\"), TextFileProvider(\"/etc/hosts\"), TextFileProvider(\"/etc/hostname\")]\n"
     ]
    }
   ],
   "source": [
    "host_stuff = sf.glob_file(\"/etc/host*\", ignore=\"(allow|deny)\", name=\"host_stuff\")\n",
    "broker = dr.run(broker=broker)\n",
    "print broker[host_stuff]"
   ]
  },
  {
   "cell_type": "markdown",
   "metadata": {},
   "source": [
    "#### simple_command\n",
    "`simple_command` allows you to get the results of a command that takes no arguments or for which you know all of the arguments up front.\n",
    "\n",
    "It and other command datasources return a `CommandOutputProvider` instance, which has the command string, any arguments interpolated into it (more later), the return code if you requested it via the `keep_rc=True` keyword, and the command output as a list of lines.\n",
    "\n",
    "`simple_command` also accepts a `timeout` keyword, which is the maximum number of seconds the system should attempt to execute the command before a `CalledProcessError` is raised for the component.\n",
    "\n",
    "A default timeout for all commands can be set on the initial `ExecutionContext` instance with the `timeout` keyword argument.\n",
    "\n",
    "If a timeout isn't specified in the `ExecutionContext` or on the command itself, none is used."
   ]
  },
  {
   "cell_type": "code",
   "execution_count": 22,
   "metadata": {},
   "outputs": [
    {
     "name": "stdout",
     "output_type": "stream",
     "text": [
      "('/usr/bin/uptime', None, None, [' 08:56:43 up 200 days, 13:43,  3 users,  load average: 0.99, 1.04, 0.99'])\n"
     ]
    }
   ],
   "source": [
    "uptime = sf.simple_command(\"/usr/bin/uptime\", name=\"uptime\")\n",
    "broker = dr.run(broker=broker)\n",
    "print (broker[uptime].cmd, broker[uptime].args, broker[uptime].rc, broker[uptime].content)"
   ]
  },
  {
   "cell_type": "markdown",
   "metadata": {},
   "source": [
    "#### listdir\n",
    "`listdir` lets you get the contents of a directory."
   ]
  },
  {
   "cell_type": "code",
   "execution_count": 23,
   "metadata": {},
   "outputs": [
    {
     "name": "stdout",
     "output_type": "stream",
     "text": [
      "['lo', 'eno4', 'eno1', 'eno3', 'eno2', 'docker0', 'bonding_masters', 'bond0']\n"
     ]
    }
   ],
   "source": [
    "interfaces = sf.listdir(\"/sys/class/net\", name=\"interfaces\")\n",
    "broker = dr.run(broker=broker)\n",
    "pprint(broker[interfaces])"
   ]
  },
  {
   "cell_type": "markdown",
   "metadata": {},
   "source": [
    "### foreach\n",
    "`foreach` allows you to use output from one component as input to a datasource command string. For example, using the output of the interfaces datasource above, we can get ethtool information about all of the ethernet devices.\n",
    "\n",
    "The timeout description provided in the `simple_command` section applies here to each seperate invocation."
   ]
  },
  {
   "cell_type": "code",
   "execution_count": 24,
   "metadata": {},
   "outputs": [
    {
     "name": "stdout",
     "output_type": "stream",
     "text": [
      "[CommandOutputProvider(\"ethtool lo\"),\n",
      " CommandOutputProvider(\"ethtool eno4\"),\n",
      " CommandOutputProvider(\"ethtool eno1\"),\n",
      " CommandOutputProvider(\"ethtool eno3\"),\n",
      " CommandOutputProvider(\"ethtool eno2\"),\n",
      " CommandOutputProvider(\"ethtool docker0\"),\n",
      " CommandOutputProvider(\"ethtool bond0\")]\n"
     ]
    }
   ],
   "source": [
    "ethtool = sf.foreach(interfaces, \"ethtool %s\", name=\"ethtool\")\n",
    "broker = dr.run(broker=broker)\n",
    "pprint(broker[ethtool])"
   ]
  },
  {
   "cell_type": "markdown",
   "metadata": {},
   "source": [
    "Notice each element in the list returned by `interfaces` is a single string. The system interpolates each element into the `ethtool` command string and evaluates each result. This produces a list of objects, one for each input element, instead of a single object. If the list created by `interfaces` contained tuples with `n` elements, then our command string would have had `n` substitution parameters."
   ]
  },
  {
   "cell_type": "markdown",
   "metadata": {},
   "source": [
    "#### first_file\n",
    "`first_file` takes a list of file names and returns a `TextFileProvider` for the first one it finds. This is useful if you're looking for a single file that might be in different locations."
   ]
  },
  {
   "cell_type": "markdown",
   "metadata": {},
   "source": [
    "#### first_of\n",
    "`first_of` is a way to express that you want to use any datasource from a list of datasources you've already defined. This is helpful if the way you collect data differs in different contexts, but the output is the same.\n",
    "\n",
    "For example, the way you collect installed rpms directly from a machine differs from how you would collect them from say, a docker image. Ultimately, downstream components may not care how the data is acquired. They just want rpm data.\n",
    "\n",
    "You could do the following. Notice that `host_rpms` and `docker_installed_rpms` implement different ways of getting rpm data that depend on different contexts, but the final `installed_rpms` datasource just references whichever one ran, and other components needing rpm info don't have to care."
   ]
  },
  {
   "cell_type": "code",
   "execution_count": 25,
   "metadata": {},
   "outputs": [
    {
     "name": "stdout",
     "output_type": "stream",
     "text": [
      "CommandOutputProvider(\"/usr/bin/rpm -qa --qf '%{NAME}-%{VERSION}-%{RELEASE}.%{ARCH}\t%{INSTALLTIME:date}\t%{BUILDTIME}\t%{RSAHEADER:pgpsig}\t%{DSAHEADER:pgpsig}\n",
      "'\")\n"
     ]
    }
   ],
   "source": [
    "from insights.config import format_rpm\n",
    "from insights.core.context import DockerImageContext\n",
    "from insights.core.plugins import datasource\n",
    "from insights.core.spec_factory import CommandOutputProvider\n",
    "\n",
    "rpm_format = format_rpm()\n",
    "cmd = \"/usr/bin/rpm -qa --qf '%s'\" % rpm_format\n",
    "\n",
    "host_rpms = sf.simple_command(cmd, name=\"host_rpms\", context=HostContext)\n",
    "\n",
    "@datasource(DockerImageContext)\n",
    "def docker_installed_rpms(ctx):\n",
    "    root = ctx.root\n",
    "    cmd = \"/usr/bin/rpm -qa --root %s --qf '%s'\" % (root, rpm_format)\n",
    "    result = ctx.shell_out(cmd)\n",
    "    return CommandOutputProvider(cmd, ctx, content=result)\n",
    "\n",
    "installed_rpms = sf.first_of([host_rpms, docker_installed_rpms])\n",
    "\n",
    "broker = dr.run(broker=broker)\n",
    "pprint(broker[installed_rpms])"
   ]
  },
  {
   "cell_type": "markdown",
   "metadata": {},
   "source": [
    "#### What datasources does Insights Core provide?\n",
    "To see a list of datasources we already collect, have a look in `insights.specs`."
   ]
  },
  {
   "cell_type": "markdown",
   "metadata": {},
   "source": [
    "#### Overriding Standard Datasources\n",
    "You can override any of the datasources that we have defined in `insights.specs`. Normally, you wouldn't want to do this because we also provide many downstream components that depend on them. However, we realize that sometimes you want to take advantage of those components but provide the data they expect in a way we didn't anticipate.\n",
    "\n",
    "Overriding a standard datasource in `insights.specs` is easy. Create a `SpecFactory` with the string \"insights.specs\" as an argument. Any datasource you create through the factory will override the datasource with the same `name` keyword in `insights.specs`."
   ]
  },
  {
   "cell_type": "markdown",
   "metadata": {},
   "source": [
    "### Parsers\n",
    "Parsers are the next major component type Insights Core provides. A `Parser` depends on a single datasource and is responsible for converting its raw content into a structured object.\n",
    "\n",
    "Let's build a simple parser."
   ]
  },
  {
   "cell_type": "code",
   "execution_count": 26,
   "metadata": {},
   "outputs": [
    {
     "name": "stdout",
     "output_type": "stream",
     "text": [
      "Host: ceehadoop1\n"
     ]
    }
   ],
   "source": [
    "from insights.core import Parser\n",
    "from insights.core.plugins import parser\n",
    "\n",
    "@parser(hostname)\n",
    "class HostnameParser(Parser):\n",
    "    def parse_content(self, content):\n",
    "        self.host, _, self.domain = content[0].partition(\".\")\n",
    "\n",
    "broker = dr.run(broker=broker)\n",
    "print \"Host:\", broker[HostnameParser].host"
   ]
  },
  {
   "cell_type": "markdown",
   "metadata": {},
   "source": [
    "Notice that the `parser` decorator accepts only one argument, the datasource the component needs. Also notice that our parser has a sensible default constructor that accepts a datasource and passes its content into a parse_content function.\n",
    "\n",
    "Our hostname parser is pretty simple, but it's easy to see how parsing things like rpm data or configuration files could get complicated.\n",
    "\n",
    "Speaking of rpms, hopefully it's also easy to see that an rpm parser could depend on our installed_rpms definition in the previous section and parse the content regardless of where the content originated."
   ]
  },
  {
   "cell_type": "markdown",
   "metadata": {},
   "source": [
    "#### What about parser dependencies that produce lists of components?\n",
    "Not only do parsers have a special decorator, they also have a special executor. If the datasource is a list, the executor will attempt to construct a parser object with each element of the list, and the value of the parser in the broker will be the list of parser objects. It's important to keep this in mind when developing components that depend on parsers.\n",
    "\n",
    "This is also why exceptions raised by components are stored as lists by component instead of single values.\n",
    "\n",
    "Here's a simple parser that depends on the `ethtool` datasource."
   ]
  },
  {
   "cell_type": "code",
   "execution_count": 27,
   "metadata": {},
   "outputs": [
    {
     "name": "stdout",
     "output_type": "stream",
     "text": [
      "Device: lo\n",
      "Link? : yes \n",
      "\n",
      "Device: eno4\n",
      "Link? : no \n",
      "\n",
      "Device: eno1\n",
      "Link? : yes \n",
      "\n",
      "Device: eno3\n",
      "Link? : no \n",
      "\n",
      "Device: eno2\n",
      "Link? : no \n",
      "\n",
      "Device: docker0\n",
      "Link? : no \n",
      "\n",
      "Device: bond0\n",
      "Link? : no \n",
      "\n"
     ]
    }
   ],
   "source": [
    "@parser(ethtool)\n",
    "class Ethtool(Parser):\n",
    "    def parse_content(self, content):\n",
    "        self.link_detected = None\n",
    "        self.device = None\n",
    "        for line in content:\n",
    "            if \"Settings for\" in line:\n",
    "                self.device = line.split(\" \")[-1].strip(\":\")\n",
    "            if \"Link detected\" in line:\n",
    "                self.link_detected = line.split(\":\")[-1].strip()\n",
    "                \n",
    "broker = dr.run(broker=broker)\n",
    "for eth in broker[Ethtool]:\n",
    "    print \"Device:\", eth.device\n",
    "    print \"Link? :\", eth.link_detected, \"\\n\""
   ]
  },
  {
   "cell_type": "markdown",
   "metadata": {},
   "source": [
    "We provide curated parsers for all of our datasources. They're in `insights.parsers`."
   ]
  },
  {
   "cell_type": "markdown",
   "metadata": {},
   "source": [
    "### Combiners\n",
    "Combiners depend on two or more other components. They typically are used to standardize interfaces or to provide a higher-level view of some set of components.\n",
    "\n",
    "As an example of standardizing interfaces, `chkconfig` and `service` commands can be used to retrieve similar data about service status, but the command you run to check that status depends on your operating system version. A datasource would be defined for each command along with a parser to interpret its output. However, a downstream component may just care about a service's status, not about how a particular program exposes it. A combiner can depend on both `chkconfig` and `service` parsers (like this, so only one of them is required: `@combiner([[chkconfig, service]])`) and provide a unified interface to the data.\n",
    "\n",
    "As an example of a higher level view of several related components, imagine a combiner that depends on various ethtool and other network information gathering parsers. It can compile all of that information behind one view, exposing a range of information about devices, interfaces, iptables, etc. that might otherwise be scattered across a system."
   ]
  },
  {
   "cell_type": "markdown",
   "metadata": {},
   "source": [
    "We provide a few common combiners. They're in `insights.combiners`."
   ]
  },
  {
   "cell_type": "markdown",
   "metadata": {},
   "source": [
    "### Rules\n",
    "Rules depend on parsers and/or combiners and encapsulate particular policies about their state. For example, a rule might detect whether a defective rpm is installed. It might also inspect the `lsof` parser to determine if a process is using a file from that defective rpm. It could also check network information to see if the process is a server and whether it's bound to an internal or external IP address. Rules can check for anything you can surface in a `parser` or a `combiner`.\n",
    "\n",
    "Rules use the `make_response` function to create their return values. It takes one required parameter, which is a key identifying the particular state the rule wants to highlight, and any number of required parameters that provide context for that state."
   ]
  },
  {
   "cell_type": "code",
   "execution_count": 28,
   "metadata": {},
   "outputs": [
    {
     "name": "stdout",
     "output_type": "stream",
     "text": [
      "{'error_key': 'HOST_IS_REDHAT', 'type': 'rule'}\n"
     ]
    }
   ],
   "source": [
    "from insights.core.plugins import rule, make_response\n",
    "\n",
    "ERROR_KEY = \"HOST_IS_REDHAT\"\n",
    "\n",
    "@rule(HostnameParser)\n",
    "def report(hn):\n",
    "    if \"redhat.com\" in hn.domain:\n",
    "        return make_response(ERROR_KEY)\n",
    "\n",
    "    \n",
    "brok = dr.Broker()\n",
    "brok[HostContext] = HostContext()\n",
    "\n",
    "brok = dr.run(broker=brok)\n",
    "pprint(brok.get(report))\n"
   ]
  },
  {
   "cell_type": "markdown",
   "metadata": {},
   "source": [
    "### Conditions and Incidents\n",
    "Conditions and incidents are optional components that can be used by rules to encapsulate particular pieces of logic.\n",
    "\n",
    "Conditions are questions with answers that can be interpreted as True or False. For example, a condition might be \"Does the kdump configuration contain a 'net' target type?\" or \"Is the operating system Red Hat Enterprise Linux 7?\"\n",
    "\n",
    "Incidents, on the other hand, typically are specific types of warning or error messages from log type files.\n",
    "\n",
    "Why would you use conditions or incidents instead of just writing the logic directly into the rule? Future versions of Insights may allow automated analysis of rules and their conditions and incidents. You will be able to tell which conditions, incidents, and rule firings across all rules correspond with each other and how strongly. This feature will become more powerful as conditions and incidents are written independently of explicit rules."
   ]
  },
  {
   "cell_type": "markdown",
   "metadata": {},
   "source": [
    "## Serialization\n",
    "Say we write a pile of components and then run them all on a system. Then what? It would be nice if we could get dictionary representations of our components that we could serialize and ship somewhere like a REST endpoint or a storage location.\n",
    "\n",
    "We've written a simple serialization framework to help with this process.\n",
    "\n",
    "Let's start with our `HostnameParser` above."
   ]
  },
  {
   "cell_type": "code",
   "execution_count": 29,
   "metadata": {},
   "outputs": [],
   "source": [
    "from insights.core.serde import serializer, deserializer, marshal, unmarshal\n",
    "\n",
    "@serializer(HostnameParser)\n",
    "def ser_hostname(hn):\n",
    "    d = {}\n",
    "    d[\"host\"] = hn.host\n",
    "    d[\"domain\"] = hn.domain\n",
    "    return d\n",
    "\n",
    "@deserializer(HostnameParser)\n",
    "def des_hostname(_type, data):\n",
    "    hn = _type.__new__(_type)\n",
    "    hn.host = data[\"host\"]\n",
    "    hn.domain = data[\"domain\"]\n",
    "    return hn"
   ]
  },
  {
   "cell_type": "code",
   "execution_count": 30,
   "metadata": {},
   "outputs": [
    {
     "name": "stdout",
     "output_type": "stream",
     "text": [
      "{'object': {'domain': 'gsslab.rdu2.redhat.com', 'host': 'ceehadoop1'},\n",
      " 'type': '__main__.HostnameParser'}\n"
     ]
    }
   ],
   "source": [
    "data = marshal(broker[HostnameParser])\n",
    "pprint(data)"
   ]
  },
  {
   "cell_type": "code",
   "execution_count": 31,
   "metadata": {},
   "outputs": [
    {
     "name": "stdout",
     "output_type": "stream",
     "text": [
      "Host: ceehadoop1\n",
      "Domain: gsslab.rdu2.redhat.com\n"
     ]
    }
   ],
   "source": [
    "hn = unmarshal(data)\n",
    "print \"Host:\", hn.host\n",
    "print \"Domain:\", hn.domain"
   ]
  },
  {
   "cell_type": "markdown",
   "metadata": {},
   "source": [
    "Serialization works by looking for a function registered to handle the class of the given object. If a function isn't found, it looks for a serializer registered for the next object in the class MRO list. This continues all the way up to `object`. If one still isn't found, we punt and just return the object as it is. Deserialization works in the same way.\n",
    "\n",
    "This means if we have components that share a base class, we can sometimes write serde functions for the base class and not have to write separate ones for all the subclasses.\n",
    "\n",
    "For example, serialization and deserialization functions exist for the `Parser` super class that work on the output of `vars`. That means that any `Parser` subclass with attributes of simple types can be automatically serialized and deserialized.\n",
    "\n",
    "We already provide serde functions for all rules and all datasources created with a `SpecFactory`."
   ]
  },
  {
   "cell_type": "code",
   "execution_count": 32,
   "metadata": {},
   "outputs": [
    {
     "name": "stdout",
     "output_type": "stream",
     "text": [
      "{'object': {'error_key': 'HOST_IS_REDHAT', 'type': 'rule'}, 'type': None}\n",
      "[{'object': {'args': 'lo',\n",
      "             'device': 'lo',\n",
      "             'file_name': 'ethtool_lo',\n",
      "             'file_path': 'insights_commands/ethtool_lo',\n",
      "             'last_client_run': None,\n",
      "             'link_detected': 'yes'},\n",
      "  'type': '__main__.Ethtool'},\n",
      " {'object': {'args': 'eno4',\n",
      "             'device': 'eno4',\n",
      "             'file_name': 'ethtool_eno4',\n",
      "             'file_path': 'insights_commands/ethtool_eno4',\n",
      "             'last_client_run': None,\n",
      "             'link_detected': 'yes'},\n",
      "  'type': '__main__.Ethtool'},\n",
      " {'object': {'args': 'virbr0-nic',\n",
      "             'device': 'virbr0-nic',\n",
      "             'file_name': 'ethtool_virbr0-nic',\n",
      "             'file_path': 'insights_commands/ethtool_virbr0-nic',\n",
      "             'last_client_run': None,\n",
      "             'link_detected': 'no'},\n",
      "  'type': '__main__.Ethtool'},\n",
      " {'object': {'args': 'eno1',\n",
      "             'device': 'eno1',\n",
      "             'file_name': 'ethtool_eno1',\n",
      "             'file_path': 'insights_commands/ethtool_eno1',\n",
      "             'last_client_run': None,\n",
      "             'link_detected': 'yes'},\n",
      "  'type': '__main__.Ethtool'},\n",
      " {'object': {'args': 'eno3',\n",
      "             'device': 'eno3',\n",
      "             'file_name': 'ethtool_eno3',\n",
      "             'file_path': 'insights_commands/ethtool_eno3',\n",
      "             'last_client_run': None,\n",
      "             'link_detected': 'yes'},\n",
      "  'type': '__main__.Ethtool'},\n",
      " {'object': {'args': 'eno2',\n",
      "             'device': 'eno2',\n",
      "             'file_name': 'ethtool_eno2',\n",
      "             'file_path': 'insights_commands/ethtool_eno2',\n",
      "             'last_client_run': None,\n",
      "             'link_detected': 'no'},\n",
      "  'type': '__main__.Ethtool'},\n",
      " {'object': {'args': 'docker0',\n",
      "             'device': 'docker0',\n",
      "             'file_name': 'ethtool_docker0',\n",
      "             'file_path': 'insights_commands/ethtool_docker0',\n",
      "             'last_client_run': None,\n",
      "             'link_detected': 'no'},\n",
      "  'type': '__main__.Ethtool'},\n",
      " {'object': {'args': 'bond0',\n",
      "             'device': 'bond0',\n",
      "             'file_name': 'ethtool_bond0',\n",
      "             'file_path': 'insights_commands/ethtool_bond0',\n",
      "             'last_client_run': None,\n",
      "             'link_detected': 'no'},\n",
      "  'type': '__main__.Ethtool'}]\n"
     ]
    }
   ],
   "source": [
    "rep = marshal(brok[report])\n",
    "pprint(rep)\n",
    "\n",
    "eth = marshal(broker[Ethtool])\n",
    "pprint(eth)"
   ]
  },
  {
   "cell_type": "code",
   "execution_count": 33,
   "metadata": {},
   "outputs": [
    {
     "name": "stdout",
     "output_type": "stream",
     "text": [
      "<__main__.HostnameParser object at 0x3ee6590>\n"
     ]
    }
   ],
   "source": [
    "et = unmarshal(data)\n",
    "pprint(et)"
   ]
  },
  {
   "cell_type": "markdown",
   "metadata": {},
   "source": [
    "## Observers\n",
    "Insights Core allows you to attach functions to component types, and they'll be called any time a component of that type is encountered. You can attach observer functions globally or to a particular broker.\n",
    "\n",
    "Observers are called whether a component succeeds or not. They take the component and the broker right after the component is evaluated and so are able to ask the broker about values, exceptions, missing requirements, etc."
   ]
  },
  {
   "cell_type": "code",
   "execution_count": 34,
   "metadata": {},
   "outputs": [
    {
     "name": "stdout",
     "output_type": "stream",
     "text": [
      "<__main__.HostnameParser object at 0x3ee61d0>\n",
      "[<__main__.Ethtool object at 0x3fbb350>,\n",
      " <__main__.Ethtool object at 0x3fbb450>,\n",
      " <__main__.Ethtool object at 0x3fbb490>,\n",
      " <__main__.Ethtool object at 0x3fbb4d0>,\n",
      " <__main__.Ethtool object at 0x3fbb510>,\n",
      " <__main__.Ethtool object at 0x3fbb550>,\n",
      " <__main__.Ethtool object at 0x3fbb590>]\n"
     ]
    }
   ],
   "source": [
    "def observer(c, broker):\n",
    "    if c not in broker:\n",
    "        return\n",
    "    \n",
    "    value = broker[c]\n",
    "    pprint(value)\n",
    "    \n",
    "broker.add_observer(observer, component_type=parser)\n",
    "broker = dr.run(broker=broker)"
   ]
  },
  {
   "cell_type": "markdown",
   "metadata": {},
   "source": [
    "## Combining Serialization and Observers\n",
    "We can combine concepts from the last two sections to serialize components based on their type. The step from here to writing the data to yaml (or anything else) is trivial."
   ]
  },
  {
   "cell_type": "code",
   "execution_count": 35,
   "metadata": {},
   "outputs": [
    {
     "name": "stdout",
     "output_type": "stream",
     "text": [
      "{'object': {'domain': 'gsslab.rdu2.redhat.com', 'host': 'ceehadoop1'},\n",
      " 'type': '__main__.HostnameParser'}\n",
      "<__main__.HostnameParser object at 0x3ee61d0>\n",
      "[{'object': {'args': 'lo',\n",
      "             'device': 'lo',\n",
      "             'file_name': 'ethtool_lo',\n",
      "             'file_path': 'insights_commands/ethtool_lo',\n",
      "             'last_client_run': None,\n",
      "             'link_detected': 'yes'},\n",
      "  'type': '__main__.Ethtool'},\n",
      " {'object': {'args': 'eno4',\n",
      "             'device': 'eno4',\n",
      "             'file_name': 'ethtool_eno4',\n",
      "             'file_path': 'insights_commands/ethtool_eno4',\n",
      "             'last_client_run': None,\n",
      "             'link_detected': 'yes'},\n",
      "  'type': '__main__.Ethtool'},\n",
      " {'object': {'args': 'virbr0-nic',\n",
      "             'device': 'virbr0-nic',\n",
      "             'file_name': 'ethtool_virbr0-nic',\n",
      "             'file_path': 'insights_commands/ethtool_virbr0-nic',\n",
      "             'last_client_run': None,\n",
      "             'link_detected': 'no'},\n",
      "  'type': '__main__.Ethtool'},\n",
      " {'object': {'args': 'eno1',\n",
      "             'device': 'eno1',\n",
      "             'file_name': 'ethtool_eno1',\n",
      "             'file_path': 'insights_commands/ethtool_eno1',\n",
      "             'last_client_run': None,\n",
      "             'link_detected': 'yes'},\n",
      "  'type': '__main__.Ethtool'},\n",
      " {'object': {'args': 'eno3',\n",
      "             'device': 'eno3',\n",
      "             'file_name': 'ethtool_eno3',\n",
      "             'file_path': 'insights_commands/ethtool_eno3',\n",
      "             'last_client_run': None,\n",
      "             'link_detected': 'yes'},\n",
      "  'type': '__main__.Ethtool'},\n",
      " {'object': {'args': 'eno2',\n",
      "             'device': 'eno2',\n",
      "             'file_name': 'ethtool_eno2',\n",
      "             'file_path': 'insights_commands/ethtool_eno2',\n",
      "             'last_client_run': None,\n",
      "             'link_detected': 'no'},\n",
      "  'type': '__main__.Ethtool'},\n",
      " {'object': {'args': 'docker0',\n",
      "             'device': 'docker0',\n",
      "             'file_name': 'ethtool_docker0',\n",
      "             'file_path': 'insights_commands/ethtool_docker0',\n",
      "             'last_client_run': None,\n",
      "             'link_detected': 'no'},\n",
      "  'type': '__main__.Ethtool'},\n",
      " {'object': {'args': 'bond0',\n",
      "             'device': 'bond0',\n",
      "             'file_name': 'ethtool_bond0',\n",
      "             'file_path': 'insights_commands/ethtool_bond0',\n",
      "             'last_client_run': None,\n",
      "             'link_detected': 'no'},\n",
      "  'type': '__main__.Ethtool'}]\n",
      "[<__main__.Ethtool object at 0x3fbb350>,\n",
      " <__main__.Ethtool object at 0x3fbb450>,\n",
      " <__main__.Ethtool object at 0x3fbb490>,\n",
      " <__main__.Ethtool object at 0x3fbb4d0>,\n",
      " <__main__.Ethtool object at 0x3fbb510>,\n",
      " <__main__.Ethtool object at 0x3fbb550>,\n",
      " <__main__.Ethtool object at 0x3fbb590>]\n"
     ]
    }
   ],
   "source": [
    "def marshaller(c, broker):\n",
    "    if c not in broker:\n",
    "        return\n",
    "    \n",
    "    value = broker[c]\n",
    "    data = marshal(value)\n",
    "    pprint(data)\n",
    "    \n",
    "broker.add_observer(marshaller, component_type=parser)\n",
    "broker = dr.run(broker=broker)\n",
    "\n",
    "# Notice that the previous observer hooked onto the broker from the Observers section\n",
    "# also fires here. You can add as many observers as you want."
   ]
  },
  {
   "cell_type": "code",
   "execution_count": null,
   "metadata": {},
   "outputs": [],
   "source": []
  }
 ],
 "metadata": {
  "kernelspec": {
   "display_name": "Python 2",
   "language": "python",
   "name": "python2"
  },
  "language_info": {
   "codemirror_mode": {
    "name": "ipython",
    "version": 2
   },
   "file_extension": ".py",
   "mimetype": "text/x-python",
   "name": "python",
   "nbconvert_exporter": "python",
   "pygments_lexer": "ipython2",
   "version": "2.7.5"
  }
 },
 "nbformat": 4,
 "nbformat_minor": 2
}
