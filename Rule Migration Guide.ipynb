{
 "cells": [
  {
   "cell_type": "markdown",
   "metadata": {},
   "source": [
    "# 1.x to 3.x Rule Migration Guide\n",
    "This guide describes changes needed for rules to run under Insights Core 3.x."
   ]
  },
  {
   "cell_type": "markdown",
   "metadata": {
    "deletable": true,
    "editable": true
   },
   "source": [
    "It covers the following topics:\n",
    "- [@rule interface](#rule_interface)\n",
    "- [function signatures](#component_signature)\n",
    "- [filtering](#filtering)\n",
    "- [cluster rules](#cluster_rules)\n",
    "- [testing](#testing)\n",
    "- [new style specs](#new_style_specs)"
   ]
  },
  {
   "cell_type": "markdown",
   "metadata": {
    "deletable": true,
    "editable": true
   },
   "source": [
    "<a id=\"rule_interface\"></a>"
   ]
  },
  {
   "cell_type": "markdown",
   "metadata": {
    "deletable": true,
    "editable": true
   },
   "source": [
    "## @rule Interface\n",
    "The `requires` keyword is gone, and required dependencies are no longer lists.\n",
    "```python\n",
    "@rule(requires=[InstalledRpms, PsAuxcww])\n",
    "```\n",
    "is now\n",
    "```python\n",
    "# requires InstalledRpms and PsAuxcww\n",
    "@rule(InstalledRpms, PsAuxcww)\n",
    "\n",
    "```\n",
    "If a rule requires at least one of a set of dependencies, they are specified in a list like before.\n",
    "```python\n",
    "# requires InstalledRpms and at least one of ChkConfig or UnitFiles\n",
    "@rule(InstalledRpms, [ChkConfig, UnitFiles])\n",
    "```\n",
    "\n",
    "And `optional` dependencies haven't changed.\n",
    "```python\n",
    "# requires InstalledRpms and PsAuxcww. Will use NetstatS if it's available\n",
    "@rule(InstalledRpms, PsAuxcww, optional=[NetstatS])\n",
    "```"
   ]
  },
  {
   "cell_type": "markdown",
   "metadata": {
    "deletable": true,
    "editable": true
   },
   "source": [
    "<a id=\"component_signature\"></a>"
   ]
  },
  {
   "cell_type": "markdown",
   "metadata": {
    "deletable": true,
    "editable": true
   },
   "source": [
    "## Component Signature\n",
    "The `local` and `shared` parameters are gone. Instead, component signatures should define parameters matching the dependencies in their `@rule` decorators.\n",
    "\n",
    "```python\n",
    "# Requires InstalledRpms and PsAuxcww.\n",
    "@rule(InstalledRpms, PsAuxcww)\n",
    "def report_thing(rpms, ps):\n",
    "    pass\n",
    "\n",
    "# Requires InstalledRpms and at least one of ChkConfig or UnitFiles.\n",
    "# Both ChkConfig and UnitFiles may be populated, but only one of them is required.\n",
    "# If one of them isn't available, None is passed as its value.\n",
    "@rule(InstalledRpms, [ChkConfig, UnitFiles])\n",
    "def report_something(rpms, cfg, uf):\n",
    "    pass\n",
    "\n",
    "# Requires InstalledRpms, at least one of ChkConfig or UnitFiles, and will use NetstatS\n",
    "# if it's available. Notice how the order of report_something_else's parameter list\n",
    "# matches the order of the dependencies even when the dependency specification is\n",
    "# complicated.\n",
    "@rule(InstalledRpms, [ChkConfig, UnitFiles], optional=[NetstatS])\n",
    "def report_something_else(rpms, cfg, uf, netstat):\n",
    "    pass\n",
    "```"
   ]
  },
  {
   "cell_type": "code",
   "execution_count": 1,
   "metadata": {
    "collapsed": true,
    "deletable": true,
    "editable": true
   },
   "outputs": [],
   "source": [
    "# Boilerplate used in later cells\n",
    "# Not necessary for new rules.\n",
    "\n",
    "from pprint import pprint\n",
    "\n",
    "from insights.core import dr\n",
    "from insights.core.filters import add_filter, get_filters\n",
    "from insights.core.context import HostContext\n",
    "from insights.core.plugins import make_response, rule\n",
    "\n",
    "dr.load_components(\"insights.specs\")\n",
    "dr.load_components(\"insights.parsers\")\n",
    "dr.load_components(\"insights.combiners\")\n",
    "\n",
    "\n",
    "def run_component(component, broker=None):\n",
    "    graph = dr.get_dependency_graph(component)\n",
    "    if not broker:\n",
    "        broker = dr.Broker()\n",
    "        broker[HostContext] = HostContext()\n",
    "    return dr.run(graph, broker=broker)"
   ]
  },
  {
   "cell_type": "markdown",
   "metadata": {
    "deletable": true,
    "editable": true
   },
   "source": [
    "### @rule Example"
   ]
  },
  {
   "cell_type": "code",
   "execution_count": 2,
   "metadata": {
    "collapsed": true,
    "deletable": true,
    "editable": true
   },
   "outputs": [],
   "source": [
    "from insights.parsers.installed_rpms import InstalledRpms\n",
    "from insights.parsers.ps import PsAuxcww\n",
    "\n",
    "@rule(InstalledRpms, PsAuxcww)\n",
    "def report(rpms, ps):\n",
    "    rpm_name = \"google-chrome-stable\"\n",
    "    if rpm_name in rpms and \"chrome\" in ps:\n",
    "        rpm = rpms.get_max(rpm_name)\n",
    "        return make_response(\"CHROME_RUNNING\",\n",
    "                             version=rpm.version,\n",
    "                             release=rpm.release,\n",
    "                             arch=rpm.arch\n",
    "                            )"
   ]
  },
  {
   "cell_type": "code",
   "execution_count": 3,
   "metadata": {
    "collapsed": false,
    "deletable": true,
    "editable": true
   },
   "outputs": [
    {
     "name": "stdout",
     "output_type": "stream",
     "text": [
      "{'arch': 'x86_64',\n",
      " 'error_key': 'CHROME_RUNNING',\n",
      " 'release': '1',\n",
      " 'type': 'rule',\n",
      " 'version': '61.0.3163.91'}\n"
     ]
    }
   ],
   "source": [
    "broker = run_component(component=report)\n",
    "pprint(broker[report])"
   ]
  },
  {
   "cell_type": "markdown",
   "metadata": {
    "deletable": true,
    "editable": true
   },
   "source": [
    "<a id=\"filtering\"></a>"
   ]
  },
  {
   "cell_type": "markdown",
   "metadata": {
    "deletable": true,
    "editable": true
   },
   "source": [
    "## Filtering\n",
    "Filters are now applied to datasources instead of certain `Parser` classes.\n",
    "\n",
    "```python\n",
    "from insights.core.filters import add_filter\n",
    "\n",
    "# like this\n",
    "add_filter(\"messages\", \"KEEP_ME\")\n",
    "add_filter(\"messages\", [\"KEEUP_US\", \"KEEP_US_TOO\"])\n",
    "\n",
    "# instead of this\n",
    "Messages.filters.append(\"KEEP_ME\")\n",
    "Messages.filters.extend([\"KEEP_US\", \"KEEP_US_TOO\"])\n",
    "```"
   ]
  },
  {
   "cell_type": "markdown",
   "metadata": {
    "deletable": true,
    "editable": true
   },
   "source": [
    "<a id=\"cluster_rules\"></a>"
   ]
  },
  {
   "cell_type": "markdown",
   "metadata": {
    "deletable": true,
    "editable": true
   },
   "source": [
    "## Cluster Rules\n",
    "Cluster rules are the same as before. Just add `cluster=True` to the `@rule` decoration."
   ]
  },
  {
   "cell_type": "markdown",
   "metadata": {
    "deletable": true,
    "editable": true
   },
   "source": [
    "<a id=\"testing\"></a>"
   ]
  },
  {
   "cell_type": "markdown",
   "metadata": {
    "deletable": true,
    "editable": true
   },
   "source": [
    "## Testing\n",
    "Unit tests need to reflect the new rule function signatures.\n",
    "\n",
    "`@archive_provider` calls should now pass the rule function instead of the rule module.\n",
    "\n",
    "```python\n",
    "from insights.plugins import vulnerable_kernel\n",
    "\n",
    "# like this\n",
    "@archive_provider(vulnerable_kernel.report)\n",
    "def integration_tests():\n",
    "...\n",
    "\n",
    "#instead of this\n",
    "@archive_provider(vulnerable_kernel)\n",
    "def integration_tests():\n",
    "...\n",
    "```"
   ]
  },
  {
   "cell_type": "markdown",
   "metadata": {
    "deletable": true,
    "editable": true
   },
   "source": [
    "<a id=\"new_style_specs\"></a>"
   ]
  },
  {
   "cell_type": "markdown",
   "metadata": {
    "deletable": true,
    "editable": true
   },
   "source": [
    "## New Style Specs\n",
    "Specs in 3.x are called \"data sources\", and they're functions like rules and other components. However, they are special because they get passed an object called a `broker` instead of directly getting their dependencies, and they're meant to execute on the machine you want to analyze. The `broker` is like the `shared` object in 1.x."
   ]
  },
  {
   "cell_type": "code",
   "execution_count": 4,
   "metadata": {
    "collapsed": true,
    "deletable": true,
    "editable": true
   },
   "outputs": [],
   "source": [
    "from insights.core.plugins import datasource\n",
    "from insights.core.spec_factory import TextFileProvider\n",
    "\n",
    "@datasource()\n",
    "def release(broker):\n",
    "    return TextFileProvider(\"etc/redhat-release\")"
   ]
  },
  {
   "cell_type": "code",
   "execution_count": 5,
   "metadata": {
    "collapsed": false,
    "deletable": true,
    "editable": true
   },
   "outputs": [
    {
     "name": "stdout",
     "output_type": "stream",
     "text": [
      "['Fedora release 25 (Twenty Five)']\n"
     ]
    }
   ],
   "source": [
    "broker = run_component(release)\n",
    "print broker[release].content"
   ]
  },
  {
   "cell_type": "markdown",
   "metadata": {
    "deletable": true,
    "editable": true
   },
   "source": [
    "This allows data sources to generate content using the full power of python. Almost anything can go in the function body of a data source."
   ]
  },
  {
   "cell_type": "markdown",
   "metadata": {
    "deletable": true,
    "editable": true
   },
   "source": [
    "Directly defining data sources is powerful, but it's tedious when you just want to collect files or execute simple commands. The `SpecFactory` class streamlines those use cases by creating `@datasource` decorated functions for you."
   ]
  },
  {
   "cell_type": "code",
   "execution_count": 6,
   "metadata": {
    "collapsed": false,
    "deletable": true,
    "editable": true
   },
   "outputs": [
    {
     "name": "stdout",
     "output_type": "stream",
     "text": [
      "<function hosts at 0x7fef5251b578>\n",
      "<function uptime at 0x7fef5251bd70>\n"
     ]
    }
   ],
   "source": [
    "from insights.core.spec_factory import SpecFactory\n",
    "\n",
    "sf = SpecFactory()\n",
    "hosts = sf.simple_file(\"/etc/hosts\", name=\"hosts\")\n",
    "uptime = sf.simple_command(\"/bin/uptime\", name=\"uptime\")\n",
    "\n",
    "print hosts\n",
    "print uptime"
   ]
  },
  {
   "cell_type": "markdown",
   "metadata": {
    "deletable": true,
    "editable": true
   },
   "source": [
    "Pass the `name` keyword to ensure the functions returned by `SpecFactory` have a sensible name and are attached to the defining module."
   ]
  },
  {
   "cell_type": "code",
   "execution_count": 7,
   "metadata": {
    "collapsed": false,
    "deletable": true,
    "editable": true
   },
   "outputs": [
    {
     "name": "stdout",
     "output_type": "stream",
     "text": [
      "['127.0.0.1   localhost localhost.localdomain localhost4 localhost4.localdomain4',\n",
      " '::1         localhost localhost.localdomain localhost6 localhost6.localdomain6']\n",
      "[' 09:28:14 up 34 days,  4:33,  1 user,  load average: 1.07, 0.54, 0.29']\n"
     ]
    }
   ],
   "source": [
    "broker = run_component(hosts)\n",
    "broker = run_component(uptime, broker=broker)\n",
    "\n",
    "pprint(broker[hosts].content)\n",
    "pprint(broker[uptime].content)"
   ]
  },
  {
   "cell_type": "markdown",
   "metadata": {
    "deletable": true,
    "editable": true
   },
   "source": [
    "Because new style specs are functions, they can't be used to both collect data from a machine and to load it from old archives. 3.x has a new system that doesn't need specs for handling data produced by datasources, and old style specs need to be maintained so long as old archives or sos reports need to be evaluated.\n",
    "\n",
    "To allow parsers to depend on either new or old style specs, a datasource can use the `alias` keyword to give itself the same name for dependency resolution as the key of the old style spec that it replaces.\n",
    "\n",
    "```python\n",
    "# in insights/specs.py\n",
    "df_al = sf.simple_command(\"/bin/df -al\", name=\"df_al\", alias=\"df_-al\")\n",
    "\n",
    "# in insights/config/specs.py\n",
    "\"df_-al\"                  : CommandSpec(\"/bin/df -al\"),\n",
    "```\n",
    "\n",
    "The `DiskFree` parser can just depend on `df_al`, and content will be associated with that key in one of three ways.\n",
    "1. An old archive is evaluated using the old specs to search through its contents. Since the alias is set, the system knows to evaluate the old spec with that key.\n",
    "2. A new archive is evaluated using the 3.x serialization system to reproduce a datasource's output.\n",
    "3. The datasource executes in the same process as the `DiskFree` parser.\n",
    "\n",
    "Because the new spec system is more powerful than the previous one, we won't be able to express some new specs in the old way."
   ]
  }
 ],
 "metadata": {
  "kernelspec": {
   "display_name": "Python 2",
   "language": "python",
   "name": "python2"
  },
  "language_info": {
   "codemirror_mode": {
    "name": "ipython",
    "version": 2
   },
   "file_extension": ".py",
   "mimetype": "text/x-python",
   "name": "python",
   "nbconvert_exporter": "python",
   "pygments_lexer": "ipython2",
   "version": "2.7.13"
  }
 },
 "nbformat": 4,
 "nbformat_minor": 2
}
