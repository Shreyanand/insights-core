{
 "cells": [
  {
   "cell_type": "markdown",
   "metadata": {},
   "source": [
    "# Insights Core Datasource Registry\n",
    "This notebook shows the recommended method of writing datasources.\n",
    "\n",
    "It also shows how to register datasources with Insights Core to provide alternative methods of collection while still taking advantage of our parser and combiner catalog.\n",
    "\n",
    "It assumes familiarity with datasources from the *Standard Components* section of the *Insights Core Tutorial*."
   ]
  },
  {
   "cell_type": "code",
   "execution_count": 1,
   "metadata": {
    "collapsed": true
   },
   "outputs": [],
   "source": [
    "import sys\n",
    "sys.path.append(\"..\")"
   ]
  },
  {
   "cell_type": "code",
   "execution_count": 2,
   "metadata": {
    "collapsed": true
   },
   "outputs": [],
   "source": [
    "from insights import run\n",
    "from insights.core import dr\n",
    "from insights.core.spec_factory import simple_file, simple_command"
   ]
  },
  {
   "cell_type": "markdown",
   "metadata": {},
   "source": [
    "## Fixing datasource names\n",
    "The simplest way to define a datasource is with a helper function from `insights.core.spec_factory`.\n",
    "\n",
    "However, if you use one of these to define a datasource at the module level, you'll notice that it doesn't have a very useful name."
   ]
  },
  {
   "cell_type": "code",
   "execution_count": 3,
   "metadata": {
    "collapsed": false
   },
   "outputs": [
    {
     "name": "stdout",
     "output_type": "stream",
     "text": [
      "insights.core.spec_factory.inner\n"
     ]
    }
   ],
   "source": [
    "hosts = simple_file(\"/etc/hosts\")\n",
    "print dr.get_name(hosts)"
   ]
  },
  {
   "cell_type": "markdown",
   "metadata": {},
   "source": [
    "We can fix that by including it in a subclass of `insights.core.spec_factory.SpecSet`.\n",
    "\n",
    "**This is the recommended way of writing datasources and is required if you want to serialize and reconstitute them later.**"
   ]
  },
  {
   "cell_type": "code",
   "execution_count": 4,
   "metadata": {
    "collapsed": false
   },
   "outputs": [
    {
     "name": "stdout",
     "output_type": "stream",
     "text": [
      "MySpecs.hosts\n"
     ]
    }
   ],
   "source": [
    "from insights.core.spec_factory import SpecSet\n",
    "\n",
    "class MySpecs(SpecSet):\n",
    "    hosts = simple_file(\"/etc/hosts\")\n",
    "\n",
    "print dr.get_name(MySpecs.hosts)"
   ]
  },
  {
   "cell_type": "markdown",
   "metadata": {},
   "source": [
    "## Making datasources dynamic\n",
    "What if you have datasources on which many downstream components depend, and you want to provide different ways of collecting the data they represent? Maybe you want to execute a command in one context, but you want to read from a file in another. Parsers depend on a single datasource, but jamming multiple collection methods into a single implementation isn't attractive.\n",
    "\n",
    "Instead, you can define a subclass of `insights.core.spec_factory.SpecSet` that has `insights.core.spec_factory.RegistryPoint` instances instead of regular datasources. Then you can provide implementations for the registry points in the form of datasources that are members of subclasses of your original class. This keeps the alternative implementations cleanly separated while allowing parsers to depend on a single component."
   ]
  },
  {
   "cell_type": "code",
   "execution_count": 5,
   "metadata": {
    "collapsed": false
   },
   "outputs": [],
   "source": [
    "from insights.core.spec_factory import RegistryPoint\n",
    "from insights.core.context import ExecutionContext, HostContext\n",
    "\n",
    "# We'll use HostContext and OtherContext as our alternatives.\n",
    "\n",
    "class OtherContext(ExecutionContext):\n",
    "    pass"
   ]
  },
  {
   "cell_type": "code",
   "execution_count": 6,
   "metadata": {
    "collapsed": false
   },
   "outputs": [],
   "source": [
    "# Define the components that your downstream components should depend on.\n",
    "\n",
    "class TheSpecs(SpecSet):\n",
    "    hostname = RegistryPoint()\n",
    "    fstab = simple_file(\"/etc/fstab\", context=HostContext)\n",
    "\n",
    "\n",
    "# Provide different implementations for hostname by subclassing TheSpecs and\n",
    "# giving the datasources names that match their corresponding registry points.\n",
    "\n",
    "class HostSpecs(TheSpecs):\n",
    "    hostname = simple_command(\"/usr/bin/hostname\", context=HostContext)\n",
    "\n",
    "class OtherSpecs(TheSpecs):\n",
    "    hostname = simple_file(\"/etc/hostname\", context=OtherContext)\n",
    "    \n",
    "# Note that we don't and actually can't provide an alternative for TheSpecs.fstab\n",
    "# since it's not a RegistryPoint."
   ]
  },
  {
   "cell_type": "markdown",
   "metadata": {},
   "source": [
    "Downstream components should depend on `TheSpecs.hostname`, and the implementation that actually runs and backs that component will depend on the context in which you run."
   ]
  },
  {
   "cell_type": "code",
   "execution_count": 7,
   "metadata": {
    "collapsed": false
   },
   "outputs": [
    {
     "name": "stdout",
     "output_type": "stream",
     "text": [
      "CommandOutputProvider(\"/usr/bin/hostname\")\n"
     ]
    }
   ],
   "source": [
    "results = run(TheSpecs.hostname, run_context=HostContext)\n",
    "print results[TheSpecs.hostname]"
   ]
  },
  {
   "cell_type": "code",
   "execution_count": 8,
   "metadata": {
    "collapsed": false
   },
   "outputs": [
    {
     "name": "stdout",
     "output_type": "stream",
     "text": [
      "TextFileProvider(\"/etc/hostname\")\n"
     ]
    }
   ],
   "source": [
    "results = run(TheSpecs.hostname, run_context=OtherContext)\n",
    "print results[TheSpecs.hostname]"
   ]
  },
  {
   "cell_type": "code",
   "execution_count": 9,
   "metadata": {
    "collapsed": false
   },
   "outputs": [
    {
     "name": "stdout",
     "output_type": "stream",
     "text": [
      "TextFileProvider(\"/etc/fstab\")\n"
     ]
    }
   ],
   "source": [
    "results = run(TheSpecs.fstab, run_context=HostContext)\n",
    "print results[TheSpecs.fstab]"
   ]
  },
  {
   "cell_type": "markdown",
   "metadata": {},
   "source": [
    "`RegistryPoint` instances in `SpecSet` subclasses are converted to special datasources that simply check their dependencies and return the **last** one that succeeds. So, `TheSpecs.hostname` is just a datasource. When `HostSpecs` subclasses `TheSpecs`, the class machinery recognizes that `HostSpecs.hostname` is callable and named the same as a `RegistryPoint` in an immediate super class. When that happens, the datasource of the subclass is added as a dependency of the datasource in the superclass.\n",
    "\n",
    "If the datasources in each subclass depend on different contexts, only one of them will fire. That's why when we ran with `HostContext`, the command was run, but when we ran with `OtherContext`, the file was collected.\n",
    "\n",
    "Notice that the `TheSpecs.fstab` datasource can be run, too. If a subclass had provided one of the same name, it would not have been registered with the super class but would instead have stayed local to that subclass.\n",
    "\n",
    "Note also that the datasources in the alternative implementation classes aren't special in any other way. You can run them directly, too, and components can depend on them if you want.\n",
    "\n",
    "What happens if you have multiple subclass implementations for a given registry point, and more than one of them depends on the same context? All of the implementations for the context are evaluated, but only the last one that was loaded is used. Notice that import order matters! **However, there should be only one way to collect data for a given context anyway: that's part of the definition of a context.**"
   ]
  },
  {
   "cell_type": "markdown",
   "metadata": {},
   "source": [
    "## Registering implementations for standard datasources\n",
    "**This use case should be very rare. In all cases but the simplest, you should know exactly how the registry system works before attempting it.**\n",
    "\n",
    "With that said, providing alternative implementations for the standard Insights Core datasources is easy if you don't also need some of the default implementations. The datasources on which the core parsers depend are all defined as `RegistryPoint`s on the `Specs` class in `insights.specs`."
   ]
  },
  {
   "cell_type": "code",
   "execution_count": 10,
   "metadata": {
    "collapsed": false
   },
   "outputs": [
    {
     "name": "stdout",
     "output_type": "stream",
     "text": [
      "TextFileProvider(\"/etc/hostname\")\n",
      "None\n"
     ]
    }
   ],
   "source": [
    "from insights.specs import Specs\n",
    "\n",
    "class UseThisInstead(Specs):\n",
    "    hostname = simple_file(\"/etc/hostname\", context=OtherContext)\n",
    "    \n",
    "results = run(Specs.hostname, run_context=OtherContext)\n",
    "print results[Specs.hostname]\n",
    "print results.get(Specs.hosts)"
   ]
  },
  {
   "cell_type": "markdown",
   "metadata": {},
   "source": [
    "Notice that `Specs.hosts` didn't run! That's because we haven't loaded the module containing the default implementations, and we've only provided an implementation for `Specs.hostname`. Also, none of the defaults depend on `OtherContext` anyway.\n",
    "\n",
    "**Taking advantage of some default implementations while overriding others is tricky.** A good rule of thumb if you want to provide an implementation for one datasource is to provide one for them all. If you're providing command implementations, you should be providing one for all of them anyway. The way a command is formatted and executed is directly related to the `ExecutionContext` on which it depends after all.\n",
    "\n",
    "What if you want to provide alternative implementations for all of the command datasources, but you'd like to reuse the file collection datasources just with a different file system root? You can do that by decorating your context class with `insights.core.context.fs_root`.\n",
    "\n",
    "You also need to ensure that the default datasource implementations have been loaded."
   ]
  },
  {
   "cell_type": "code",
   "execution_count": 11,
   "metadata": {
    "collapsed": false
   },
   "outputs": [
    {
     "name": "stdout",
     "output_type": "stream",
     "text": [
      "TextFileProvider(\"/etc/hostname\")\n",
      "TextFileProvider(\"/etc/hosts\")\n"
     ]
    }
   ],
   "source": [
    "from insights.core.context import fs_root\n",
    "import insights.specs_default  # load the default implementations\n",
    "\n",
    "@fs_root\n",
    "class MyOtherContext(ExecutionContext):\n",
    "    pass\n",
    "\n",
    "class MoreSpecs(Specs):\n",
    "    hostname = simple_file(\"/etc/hostname\", context=MyOtherContext)\n",
    "\n",
    "results = run(Specs.hostname, run_context=MyOtherContext)\n",
    "print results[Specs.hostname]\n",
    "\n",
    "results = run(Specs.hosts, run_context=MyOtherContext)\n",
    "print results[Specs.hosts]"
   ]
  },
  {
   "cell_type": "markdown",
   "metadata": {},
   "source": [
    "If you use an `@fs_root` decorated context, you shouldn't provide implementations for any default file collection datasources in your subclass. If you do, *both* the default implementation and your implementation will run, even though downstream components will only see the last one that ran successfully.\n",
    "\n",
    "It's for a similar reason that any command you override should depend on a context that's different from the default implementation, and since you'll need a different context to fire your alternative implementation, you can't run any of the other default command implementations and will need to override them, too.\n",
    "\n",
    "Again, overriding only some of the datasources is tricky. If you need to override one, you should probably just override everything you're interested in."
   ]
  }
 ],
 "metadata": {
  "kernelspec": {
   "display_name": "Python 2",
   "language": "python",
   "name": "python2"
  },
  "language_info": {
   "codemirror_mode": {
    "name": "ipython",
    "version": 2
   },
   "file_extension": ".py",
   "mimetype": "text/x-python",
   "name": "python",
   "nbconvert_exporter": "python",
   "pygments_lexer": "ipython2",
   "version": "2.7.14"
  }
 },
 "nbformat": 4,
 "nbformat_minor": 2
}
